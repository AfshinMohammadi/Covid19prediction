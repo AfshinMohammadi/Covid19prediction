{
 "cells": [
  {
   "cell_type": "code",
   "execution_count": 1,
   "metadata": {},
   "outputs": [],
   "source": [
    "import os\n",
    "import cv2\n",
    "import  tensorflow as tf\n",
    "import matplotlib.pyplot as plt\n",
    "import numpy as np\n",
    "from keras.layers import Dense, MaxPooling2D, Conv2D, Flatten, Dropout\n",
    "from keras.models import Sequential\n",
    "import tensorflow as tf\n",
    "from keras.utils import to_categorical\n",
    "import tensorboard"
   ]
  },
  {
   "cell_type": "code",
   "execution_count": 2,
   "metadata": {},
   "outputs": [],
   "source": [
    "posfiles = os.listdir('G:/cshub.mit/python/Projects/Covid_data/train/pos')\n",
    "negfiles = os.listdir('G:/cshub.mit/python/Projects/Covid_data/train/neg')\n",
    "\n",
    "\n",
    "classes = ['pos', 'neg']\n",
    "pos = []\n",
    "neg = []\n",
    "j = 32\n",
    "p = 32\n",
    "x = []\n",
    "y = []\n",
    "\n",
    "\n",
    "for clas in classes:\n",
    "    if clas == 'pos':\n",
    "        for i in posfiles:\n",
    "            t = cv2.imread('G:/cshub.mit/python/Projects/Covid_data/train/pos' + '/' + i)\n",
    "            q = cv2.resize(t, (j, p))\n",
    "            x.append(q)\n",
    "            y.append(0)\n",
    "    if clas == 'neg':\n",
    "        for q in negfiles:\n",
    "            t = cv2.imread('G:/cshub.mit/python/Projects/Covid_data/train/neg' + '/' + q)\n",
    "            q = cv2.resize(t, (j, p))\n",
    "            x.append(q)\n",
    "            y.append(1)\n",
    "    \n",
    "\n",
    "\n",
    "x = np.asarray(x)\n",
    "x = x/255\n",
    "x = x.astype('float32')\n",
    "xtrain = tf.convert_to_tensor(x)\n",
    "n = np.asarray(y)\n",
    "y = n.astype('float32')\n",
    "y = tf.convert_to_tensor(y)\n",
    "ytrain = to_categorical(y, num_classes=2, dtype='float32')"
   ]
  },
  {
   "cell_type": "code",
   "execution_count": 3,
   "metadata": {},
   "outputs": [],
   "source": [
    "model = Sequential()\n",
    "model.add(Conv2D(128, kernel_size=(5,5), activation='relu', input_shape=(32, 32, 3)))\n",
    "model.add(MaxPooling2D(pool_size=(4, 4)))\n",
    "model.add(Dropout(0.2))\n",
    "model.add(Conv2D(64, kernel_size=(3,3), activation='relu'))\n",
    "model.add(MaxPooling2D(pool_size=(2, 2)))\n",
    "model.add(Dropout(0.2))\n",
    "model.add(Conv2D(32, kernel_size=(2,2), activation='relu'))\n",
    "model.add(Dropout(0.2))\n",
    "model.add(Flatten())\n",
    "model.add(Dense(128, activation = 'relu'))\n",
    "model.add(Dropout(0.25))\n",
    "model.add(Dense(64, activation = 'relu'))\n",
    "model.add(Dropout(0.25))\n",
    "model.add(Dense(2, activation='sigmoid'))"
   ]
  },
  {
   "cell_type": "code",
   "execution_count": 4,
   "metadata": {},
   "outputs": [
    {
     "name": "stdout",
     "output_type": "stream",
     "text": [
      "Epoch 1/20\n",
      "10418/10418 - 38s - loss: 0.2586 - accuracy: 0.9176 - val_loss: 0.0388 - val_accuracy: 0.9845\n",
      "Epoch 2/20\n",
      "10418/10418 - 35s - loss: 0.1661 - accuracy: 0.9491 - val_loss: 0.0359 - val_accuracy: 0.9879\n",
      "Epoch 3/20\n",
      "10418/10418 - 42s - loss: 0.1547 - accuracy: 0.9536 - val_loss: 0.0337 - val_accuracy: 0.9827\n",
      "Epoch 4/20\n",
      "10418/10418 - 39s - loss: 0.1304 - accuracy: 0.9597 - val_loss: 0.0369 - val_accuracy: 0.9810\n",
      "Epoch 5/20\n",
      "10418/10418 - 48s - loss: 0.1413 - accuracy: 0.9606 - val_loss: 0.1249 - val_accuracy: 0.9629\n",
      "Epoch 6/20\n",
      "10418/10418 - 47s - loss: 0.1329 - accuracy: 0.9618 - val_loss: 0.0316 - val_accuracy: 0.9853\n",
      "Epoch 7/20\n",
      "10418/10418 - 33s - loss: 0.1248 - accuracy: 0.9635 - val_loss: 0.0414 - val_accuracy: 0.9819\n",
      "Epoch 8/20\n",
      "10418/10418 - 31s - loss: 0.1398 - accuracy: 0.9624 - val_loss: 0.0471 - val_accuracy: 0.9819\n",
      "Epoch 9/20\n",
      "10418/10418 - 31s - loss: 0.1478 - accuracy: 0.9602 - val_loss: 0.0226 - val_accuracy: 0.9922\n",
      "Epoch 10/20\n",
      "10418/10418 - 30s - loss: 0.1303 - accuracy: 0.9614 - val_loss: 0.0328 - val_accuracy: 0.9870\n",
      "Epoch 11/20\n",
      "10418/10418 - 32s - loss: 0.1382 - accuracy: 0.9611 - val_loss: 0.0189 - val_accuracy: 0.9948\n",
      "Epoch 12/20\n",
      "10418/10418 - 31s - loss: 0.1228 - accuracy: 0.9623 - val_loss: 0.0391 - val_accuracy: 0.9931\n",
      "Epoch 13/20\n",
      "10418/10418 - 31s - loss: 0.1319 - accuracy: 0.9632 - val_loss: 0.0430 - val_accuracy: 0.9775\n",
      "Epoch 14/20\n",
      "10418/10418 - 32s - loss: 0.1600 - accuracy: 0.9617 - val_loss: 0.0591 - val_accuracy: 0.9836\n",
      "Epoch 15/20\n",
      "10418/10418 - 35s - loss: 0.1303 - accuracy: 0.9647 - val_loss: 0.0279 - val_accuracy: 0.9819\n",
      "Epoch 16/20\n",
      "10418/10418 - 32s - loss: 0.1371 - accuracy: 0.9603 - val_loss: 0.0389 - val_accuracy: 0.9888\n",
      "Epoch 17/20\n",
      "10418/10418 - 31s - loss: 0.1691 - accuracy: 0.9571 - val_loss: 0.0853 - val_accuracy: 0.9819\n",
      "Epoch 18/20\n",
      "10418/10418 - 31s - loss: 0.1442 - accuracy: 0.9596 - val_loss: 0.0370 - val_accuracy: 0.9853\n",
      "Epoch 19/20\n",
      "10418/10418 - 32s - loss: 0.1448 - accuracy: 0.9576 - val_loss: 0.0146 - val_accuracy: 0.9991\n",
      "Epoch 20/20\n",
      "10418/10418 - 32s - loss: 0.1816 - accuracy: 0.9539 - val_loss: 0.0283 - val_accuracy: 0.9896\n"
     ]
    },
    {
     "data": {
      "text/plain": [
       "<tensorflow.python.keras.callbacks.History at 0x212f0bf0848>"
      ]
     },
     "execution_count": 4,
     "metadata": {},
     "output_type": "execute_result"
    }
   ],
   "source": [
    "model.compile(optimizer='adam', loss='BinaryCrossentropy', metrics=['accuracy'])\n",
    "model.fit(xtrain, ytrain, batch_size=1, epochs = 20, verbose = 2, validation_split=0.1)"
   ]
  },
  {
   "cell_type": "code",
   "execution_count": 5,
   "metadata": {},
   "outputs": [
    {
     "name": "stdout",
     "output_type": "stream",
     "text": [
      "WARNING:tensorflow:From <ipython-input-5-d0658ba4fbaa>:36: Sequential.predict_classes (from tensorflow.python.keras.engine.sequential) is deprecated and will be removed after 2021-01-01.\n",
      "Instructions for updating:\n",
      "Please use instead:* `np.argmax(model.predict(x), axis=-1)`,   if your model does multi-class classification   (e.g. if it uses a `softmax` last-layer activation).* `(model.predict(x) > 0.5).astype(\"int32\")`,   if your model does binary classification   (e.g. if it uses a `sigmoid` last-layer activation).\n",
      "18/18 [==============================] - 0s 10ms/step - loss: 0.2773 - accuracy: 0.9417\n"
     ]
    }
   ],
   "source": [
    "posfiles = os.listdir('G:/cshub.mit/python/Projects/Covid_data/test/pos')\n",
    "negfiles = os.listdir('G:/cshub.mit/python/Projects/Covid_data/test/neg')\n",
    "pos = []\n",
    "neg = []\n",
    "x = []\n",
    "y = []\n",
    "\n",
    "\n",
    "for clas in classes:\n",
    "    if clas == 'pos':\n",
    "        for i in posfiles:\n",
    "            t = cv2.imread('G:/cshub.mit/python/Projects/Covid_data/test/pos' + '/' + i)\n",
    "            q = cv2.resize(t, (j, p))\n",
    "            x.append(q)\n",
    "            y.append(0)\n",
    "    if clas == 'neg':\n",
    "        for q in negfiles:\n",
    "            t = cv2.imread('G:/cshub.mit/python/Projects/Covid_data/test/neg' + '/' + q)\n",
    "            q = cv2.resize(t, (j, p))\n",
    "            x.append(q)\n",
    "            y.append(1)\n",
    "    \n",
    "\n",
    "\n",
    "x = np.asarray(x)\n",
    "x = x/255\n",
    "x = x.astype('float32')\n",
    "xtest = tf.convert_to_tensor(x)\n",
    "y = np.asarray(y)\n",
    "y = y.astype('float32')\n",
    "y = tf.convert_to_tensor(y)\n",
    "ytest = to_categorical(y, num_classes=2, dtype='float32')\n",
    "\n",
    "\n",
    "ypre = model.predict(xtest)\n",
    "m = model.predict_classes(xtest)\n",
    "p = model.evaluate(xtest, ytest)"
   ]
  },
  {
   "cell_type": "code",
   "execution_count": 6,
   "metadata": {},
   "outputs": [
    {
     "data": {
      "text/plain": [
       "[0.2773088216781616, 0.9416961073875427]"
      ]
     },
     "execution_count": 6,
     "metadata": {},
     "output_type": "execute_result"
    }
   ],
   "source": [
    "p"
   ]
  },
  {
   "cell_type": "code",
   "execution_count": null,
   "metadata": {},
   "outputs": [],
   "source": [
    "model.save_weights('Covid19predictionweights.h5')"
   ]
  },
  {
   "cell_type": "code",
   "execution_count": 8,
   "metadata": {},
   "outputs": [
    {
     "data": {
      "text/plain": [
       "array([0, 0, 0, 1, 0, 1, 0, 0, 0, 0, 0, 0, 0, 0, 0, 1, 1, 0, 1, 0, 0, 0,\n",
       "       0, 0, 0, 0, 0, 0, 0, 0, 0, 0, 0, 0, 0, 0, 0, 0, 0, 0, 0, 0, 0, 0,\n",
       "       0, 0, 0, 0, 0, 0, 0, 0, 0, 0, 0, 0, 0, 0, 0, 0, 0, 0, 0, 0, 0, 0,\n",
       "       1, 0, 0, 0, 0, 0, 0, 0, 0, 1, 0, 0, 0, 0, 0, 0, 0, 0, 0, 0, 0, 0,\n",
       "       0, 0, 0, 0, 0, 0, 0, 0, 1, 0, 1, 0, 0, 0, 0, 0, 0, 0, 0, 0, 0, 0,\n",
       "       0, 0, 0, 0, 0, 0, 0, 0, 0, 1, 0, 0, 0, 0, 0, 0, 1, 0, 0, 0, 0, 0,\n",
       "       0, 0, 0, 0, 0, 0, 0, 0, 0, 0, 0, 0, 0, 0, 0, 0, 0, 0, 0, 0, 0, 0,\n",
       "       0, 0, 0, 0, 0, 0, 0, 0, 0, 1, 0, 0, 0, 0, 0, 0, 0, 0, 0, 0, 0, 0,\n",
       "       0, 1, 0, 0, 0, 0, 0, 0, 0, 0, 0, 0, 0, 0, 0, 0, 0, 0, 0, 0, 1, 1,\n",
       "       1, 1, 1, 1, 1, 1, 1, 1, 1, 1, 1, 1, 1, 1, 1, 1, 1, 1, 1, 1, 1, 1,\n",
       "       1, 1, 1, 1, 1, 1, 1, 1, 1, 1, 1, 1, 1, 1, 1, 1, 0, 1, 0, 1, 1, 1,\n",
       "       1, 1, 1, 1, 1, 1, 1, 1, 1, 1, 1, 1, 1, 1, 1, 1, 1, 1, 1, 1, 1, 1,\n",
       "       1, 1, 1, 1, 1, 1, 1, 1, 1, 1, 1, 1, 1, 1, 1, 1, 1, 1, 1, 1, 1, 1,\n",
       "       1, 1, 1, 1, 1, 1, 1, 1, 1, 1, 1, 1, 1, 1, 1, 1, 1, 1, 1, 1, 1, 1,\n",
       "       1, 1, 1, 1, 1, 1, 1, 1, 1, 1, 1, 1, 1, 1, 1, 1, 1, 1, 1, 1, 1, 1,\n",
       "       1, 1, 1, 1, 1, 1, 1, 1, 1, 1, 1, 1, 1, 1, 1, 1, 1, 1, 1, 1, 1, 1,\n",
       "       1, 1, 1, 1, 1, 1, 1, 1, 1, 1, 1, 1, 1, 1, 1, 1, 1, 1, 1, 1, 1, 1,\n",
       "       1, 1, 1, 1, 1, 1, 1, 1, 1, 1, 0, 0, 1, 1, 1, 1, 1, 1, 1, 1, 1, 1,\n",
       "       1, 1, 1, 1, 1, 1, 1, 1, 1, 1, 1, 1, 1, 1, 1, 1, 1, 1, 1, 1, 1, 1,\n",
       "       1, 1, 1, 1, 1, 1, 1, 1, 1, 1, 1, 1, 1, 1, 1, 1, 1, 1, 1, 1, 1, 1,\n",
       "       1, 1, 1, 1, 1, 1, 1, 1, 1, 1, 1, 1, 1, 1, 1, 1, 1, 1, 1, 1, 1, 1,\n",
       "       1, 1, 1, 1, 1, 1, 1, 1, 1, 1, 1, 1, 1, 1, 1, 1, 1, 1, 1, 1, 1, 1,\n",
       "       1, 1, 1, 1, 1, 1, 1, 1, 1, 1, 1, 1, 1, 1, 1, 1, 1, 1, 1, 1, 1, 1,\n",
       "       1, 1, 1, 1, 1, 1, 1, 1, 1, 1, 1, 1, 1, 1, 1, 1, 1, 1, 1, 1, 1, 1,\n",
       "       1, 1, 1, 1, 1, 1, 1, 1, 1, 1, 1, 1, 1, 1, 1, 1, 1, 1, 1, 1, 1, 1,\n",
       "       0, 0, 0, 0, 0, 0, 0, 0, 0, 0, 0, 0, 0, 0, 0, 0], dtype=int64)"
      ]
     },
     "execution_count": 8,
     "metadata": {},
     "output_type": "execute_result"
    }
   ],
   "source": [
    "m"
   ]
  },
  {
   "cell_type": "code",
   "execution_count": null,
   "metadata": {},
   "outputs": [],
   "source": []
  }
 ],
 "metadata": {
  "kernelspec": {
   "display_name": "Python 3",
   "language": "python",
   "name": "python3"
  },
  "language_info": {
   "codemirror_mode": {
    "name": "ipython",
    "version": 3
   },
   "file_extension": ".py",
   "mimetype": "text/x-python",
   "name": "python",
   "nbconvert_exporter": "python",
   "pygments_lexer": "ipython3",
   "version": "3.7.4"
  },
  "varInspector": {
   "cols": {
    "lenName": 16,
    "lenType": 16,
    "lenVar": 40
   },
   "kernels_config": {
    "python": {
     "delete_cmd_postfix": "",
     "delete_cmd_prefix": "del ",
     "library": "var_list.py",
     "varRefreshCmd": "print(var_dic_list())"
    },
    "r": {
     "delete_cmd_postfix": ") ",
     "delete_cmd_prefix": "rm(",
     "library": "var_list.r",
     "varRefreshCmd": "cat(var_dic_list()) "
    }
   },
   "types_to_exclude": [
    "module",
    "function",
    "builtin_function_or_method",
    "instance",
    "_Feature"
   ],
   "window_display": false
  }
 },
 "nbformat": 4,
 "nbformat_minor": 4
}
